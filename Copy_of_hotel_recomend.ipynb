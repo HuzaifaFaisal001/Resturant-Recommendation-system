{
  "cells": [
    {
      "cell_type": "code",
      "execution_count": 2,
      "metadata": {
        "id": "OanA96tNkhR9"
      },
      "outputs": [],
      "source": [
        "from google.colab import drive\n",
        "drive.mount('/content/drive')"
      ]
    },
    {
      "cell_type": "code",
      "execution_count": null,
      "metadata": {
        "id": "53SXMWtlkliV"
      },
      "outputs": [],
      "source": [
        "import pandas as pd\n",
        "import numpy as np\n",
        "import matplotlib.pyplot as plt\n",
        "import seaborn as sns\n",
        "from sklearn.feature_extraction.text import TfidfVectorizer\n",
        "from sklearn.metrics.pairwise import linear_kernel\n",
        "from scipy.sparse import hstack"
      ]
    },
    {
      "cell_type": "code",
      "execution_count": null,
      "metadata": {
        "id": "lhSEEHadkwRv"
      },
      "outputs": [],
      "source": [
        "df = pd.read_excel('/content/drive/MyDrive/dataset/r_d.xlsx')"
      ]
    },
    {
      "cell_type": "code",
      "execution_count": null,
      "metadata": {
        "id": "BaGM5WTDlB26"
      },
      "outputs": [],
      "source": [
        "df.head()"
      ]
    },
    {
      "cell_type": "code",
      "execution_count": null,
      "metadata": {
        "id": "hfW1I_2ul0uT"
      },
      "outputs": [],
      "source": [
        "df.shape"
      ]
    },
    {
      "cell_type": "code",
      "execution_count": null,
      "metadata": {
        "id": "Jq35iGolm3cS"
      },
      "outputs": [],
      "source": [
        "# Remove leading and trailing spaces from the 'Opening Hours' column\n",
        "df['Opening Hours'] = df['Opening Hours'].str.strip()\n",
        "\n",
        "# Remove any additional unconverted data, such as '- 12:00 AM'\n",
        "df['Opening Hours'] = df['Opening Hours'].str.replace('-.*', '', regex=True)\n",
        "\n",
        "# Convert to datetime format\n",
        "df['Opening Hours'] = pd.to_datetime(df['Opening Hours'], format='%I:%M %p')"
      ]
    },
    {
      "cell_type": "code",
      "execution_count": null,
      "metadata": {
        "id": "A9ATs7nVl54h"
      },
      "outputs": [],
      "source": [
        "df.info()"
      ]
    },
    {
      "cell_type": "code",
      "execution_count": null,
      "metadata": {
        "id": "_VdvfxO0lp34"
      },
      "outputs": [],
      "source": [
        "# @title City vs Rating\n",
        "figsize = (12, 1.2 * len(df['City'].unique()))\n",
        "plt.figure(figsize=figsize)\n",
        "sns.violinplot(df, x='Rating', y='City', inner='stick', palette='Dark2')\n",
        "sns.despine(top=True, right=True, bottom=True, left=True)"
      ]
    },
    {
      "cell_type": "code",
      "execution_count": null,
      "metadata": {
        "id": "YkyTzxFzlc0p"
      },
      "outputs": [],
      "source": [
        "df.groupby('City').size().plot(kind='barh', color=sns.palettes.mpl_palette('Dark2'))\n",
        "plt.gca().spines[['top', 'right',]].set_visible(False)"
      ]
    },
    {
      "cell_type": "code",
      "execution_count": null,
      "metadata": {
        "id": "oegu2OkAlTcj"
      },
      "outputs": [],
      "source": [
        "# @title Rating\n",
        "df['Rating'].plot(kind='hist', bins=20, title='Rating')\n",
        "plt.gca().spines[['top', 'right',]].set_visible(False)"
      ]
    },
    {
      "cell_type": "markdown",
      "metadata": {
        "id": "tTZ77FHQrIna"
      },
      "source": [
        "---\n",
        "# Resturant Recomendation\n",
        "---"
      ]
    },
    {
      "cell_type": "code",
      "execution_count": null,
      "metadata": {
        "id": "SE3tfzGnqs3p"
      },
      "outputs": [],
      "source": [
        "# vectorizer for cuisine\n",
        "cuisine_tfidf = TfidfVectorizer()\n",
        "cuisine_feature = cuisine_tfidf.fit_transform(df['Cuisine'])"
      ]
    },
    {
      "cell_type": "code",
      "execution_count": null,
      "metadata": {
        "id": "4sblCwakqv4R"
      },
      "outputs": [],
      "source": [
        "# vectorizer for location\n",
        "location_tfidf = TfidfVectorizer()\n",
        "location_feature = location_tfidf.fit_transform(df['Location'])"
      ]
    },
    {
      "cell_type": "code",
      "execution_count": null,
      "metadata": {
        "id": "IR3stAYbq1QJ"
      },
      "outputs": [],
      "source": [
        "\n",
        "# Combine the feature vectors\n",
        "combined_features = hstack([cuisine_feature, location_feature])"
      ]
    },
    {
      "cell_type": "code",
      "execution_count": null,
      "metadata": {
        "id": "VypF44-kq4t4"
      },
      "outputs": [],
      "source": [
        "# Compute the cosine similarity matrix\n",
        "cosine_similarities = linear_kernel(combined_features, combined_features)"
      ]
    },
    {
      "cell_type": "code",
      "execution_count": null,
      "metadata": {
        "id": "QQoo17hFnywD"
      },
      "outputs": [],
      "source": [
        "# Function to get restaurant recommendations based on a given restaurant name\n",
        "def get_recommendations(name, cosine_similarities, df, top_n=5):\n",
        "    # Get the index of the restaurant\n",
        "    idx = df[df['Name'] == name].index[0]\n",
        "\n",
        "    # Get the pairwise similarities of the restaurant with other restaurants\n",
        "    sim_scores = list(enumerate(cosine_similarities[idx]))\n",
        "\n",
        "    # Sort the restaurants based on similarity scores\n",
        "    sim_scores = sorted(sim_scores, key=lambda x: x[1], reverse=True)\n",
        "\n",
        "    # Get the top N similar restaurants (excluding the input restaurant itself)\n",
        "    top_similar_restaurants = [sim_scores[i][0] for i in range(1, top_n + 1)]\n",
        "\n",
        "    # Return the recommended restaurant names\n",
        "    return df['Name'].iloc[top_similar_restaurants]\n"
      ]
    },
    {
      "cell_type": "code",
      "execution_count": null,
      "metadata": {
        "id": "62_1mxMHlPNl"
      },
      "outputs": [],
      "source": [
        "# Get recommendations for a restaurant\n",
        "restaurant_name = 'Curry House'\n",
        "recommendations = get_recommendations(restaurant_name, cosine_similarities, df)\n",
        "\n",
        "print(f\"Recommendations for {restaurant_name}:\")\n",
        "print(recommendations)"
      ]
    },
    {
      "cell_type": "code",
      "execution_count": null,
      "metadata": {
        "id": "yGSri-TiMhrC"
      },
      "outputs": [],
      "source": [
        "import pickle\n",
        "\n",
        "# Assuming you have trained and evaluated your model\n",
        "model = 'recommendations'  # Your trained model object\n",
        "\n",
        "# Save the model to disk using pickle\n",
        "with open('recommended_model.pkl', 'wb') as f:\n",
        "    pickle.dump(model, f)"
      ]
    },
    {
      "cell_type": "code",
      "execution_count": null,
      "metadata": {
        "id": "aJrmuLzLd6za"
      },
      "outputs": [],
      "source": [
        "! streamlit rum app.py & npx localtunnel --port 8501"
      ]
    },
    {
      "cell_type": "code",
      "execution_count": null,
      "metadata": {
        "id": "l44Uc6Z9dscR"
      },
      "outputs": [],
      "source": [
        "!wget -q -O - ipv4.icanhazip.com"
      ]
    },
    {
      "cell_type": "code",
      "execution_count": null,
      "metadata": {
        "id": "H-CQq_UPOPd0"
      },
      "outputs": [],
      "source": [
        "!pip install streamlit -q"
      ]
    }
  ],
  "metadata": {
    "colab": {
      "private_outputs": true,
      "provenance": []
    },
    "kernelspec": {
      "display_name": "Python 3",
      "name": "python3"
    },
    "language_info": {
      "codemirror_mode": {
        "name": "ipython",
        "version": 3
      },
      "file_extension": ".py",
      "mimetype": "text/x-python",
      "name": "python",
      "nbconvert_exporter": "python",
      "pygments_lexer": "ipython3",
      "version": "3.11.9"
    }
  },
  "nbformat": 4,
  "nbformat_minor": 0
}
